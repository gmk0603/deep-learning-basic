{
 "cells": [
  {
   "cell_type": "code",
   "execution_count": 85,
   "id": "ac3ea0ed",
   "metadata": {},
   "outputs": [],
   "source": [
    "from keras.datasets import imdb\n",
    "\n",
    "(train_data, train_labels), (test_data, test_labels) = imdb.load_data(num_words=10000)"
   ]
  },
  {
   "cell_type": "code",
   "execution_count": 86,
   "id": "6768e52d",
   "metadata": {},
   "outputs": [
    {
     "data": {
      "text/plain": [
       "[1,\n",
       " 14,\n",
       " 22,\n",
       " 16,\n",
       " 43,\n",
       " 530,\n",
       " 973,\n",
       " 1622,\n",
       " 1385,\n",
       " 65,\n",
       " 458,\n",
       " 4468,\n",
       " 66,\n",
       " 3941,\n",
       " 4,\n",
       " 173,\n",
       " 36,\n",
       " 256,\n",
       " 5,\n",
       " 25,\n",
       " 100,\n",
       " 43,\n",
       " 838,\n",
       " 112,\n",
       " 50,\n",
       " 670,\n",
       " 2,\n",
       " 9,\n",
       " 35,\n",
       " 480,\n",
       " 284,\n",
       " 5,\n",
       " 150,\n",
       " 4,\n",
       " 172,\n",
       " 112,\n",
       " 167,\n",
       " 2,\n",
       " 336,\n",
       " 385,\n",
       " 39,\n",
       " 4,\n",
       " 172,\n",
       " 4536,\n",
       " 1111,\n",
       " 17,\n",
       " 546,\n",
       " 38,\n",
       " 13,\n",
       " 447,\n",
       " 4,\n",
       " 192,\n",
       " 50,\n",
       " 16,\n",
       " 6,\n",
       " 147,\n",
       " 2025,\n",
       " 19,\n",
       " 14,\n",
       " 22,\n",
       " 4,\n",
       " 1920,\n",
       " 4613,\n",
       " 469,\n",
       " 4,\n",
       " 22,\n",
       " 71,\n",
       " 87,\n",
       " 12,\n",
       " 16,\n",
       " 43,\n",
       " 530,\n",
       " 38,\n",
       " 76,\n",
       " 15,\n",
       " 13,\n",
       " 1247,\n",
       " 4,\n",
       " 22,\n",
       " 17,\n",
       " 515,\n",
       " 17,\n",
       " 12,\n",
       " 16,\n",
       " 626,\n",
       " 18,\n",
       " 2,\n",
       " 5,\n",
       " 62,\n",
       " 386,\n",
       " 12,\n",
       " 8,\n",
       " 316,\n",
       " 8,\n",
       " 106,\n",
       " 5,\n",
       " 4,\n",
       " 2223,\n",
       " 5244,\n",
       " 16,\n",
       " 480,\n",
       " 66,\n",
       " 3785,\n",
       " 33,\n",
       " 4,\n",
       " 130,\n",
       " 12,\n",
       " 16,\n",
       " 38,\n",
       " 619,\n",
       " 5,\n",
       " 25,\n",
       " 124,\n",
       " 51,\n",
       " 36,\n",
       " 135,\n",
       " 48,\n",
       " 25,\n",
       " 1415,\n",
       " 33,\n",
       " 6,\n",
       " 22,\n",
       " 12,\n",
       " 215,\n",
       " 28,\n",
       " 77,\n",
       " 52,\n",
       " 5,\n",
       " 14,\n",
       " 407,\n",
       " 16,\n",
       " 82,\n",
       " 2,\n",
       " 8,\n",
       " 4,\n",
       " 107,\n",
       " 117,\n",
       " 5952,\n",
       " 15,\n",
       " 256,\n",
       " 4,\n",
       " 2,\n",
       " 7,\n",
       " 3766,\n",
       " 5,\n",
       " 723,\n",
       " 36,\n",
       " 71,\n",
       " 43,\n",
       " 530,\n",
       " 476,\n",
       " 26,\n",
       " 400,\n",
       " 317,\n",
       " 46,\n",
       " 7,\n",
       " 4,\n",
       " 2,\n",
       " 1029,\n",
       " 13,\n",
       " 104,\n",
       " 88,\n",
       " 4,\n",
       " 381,\n",
       " 15,\n",
       " 297,\n",
       " 98,\n",
       " 32,\n",
       " 2071,\n",
       " 56,\n",
       " 26,\n",
       " 141,\n",
       " 6,\n",
       " 194,\n",
       " 7486,\n",
       " 18,\n",
       " 4,\n",
       " 226,\n",
       " 22,\n",
       " 21,\n",
       " 134,\n",
       " 476,\n",
       " 26,\n",
       " 480,\n",
       " 5,\n",
       " 144,\n",
       " 30,\n",
       " 5535,\n",
       " 18,\n",
       " 51,\n",
       " 36,\n",
       " 28,\n",
       " 224,\n",
       " 92,\n",
       " 25,\n",
       " 104,\n",
       " 4,\n",
       " 226,\n",
       " 65,\n",
       " 16,\n",
       " 38,\n",
       " 1334,\n",
       " 88,\n",
       " 12,\n",
       " 16,\n",
       " 283,\n",
       " 5,\n",
       " 16,\n",
       " 4472,\n",
       " 113,\n",
       " 103,\n",
       " 32,\n",
       " 15,\n",
       " 16,\n",
       " 5345,\n",
       " 19,\n",
       " 178,\n",
       " 32]"
      ]
     },
     "execution_count": 86,
     "metadata": {},
     "output_type": "execute_result"
    }
   ],
   "source": [
    "train_data[0]"
   ]
  },
  {
   "cell_type": "code",
   "execution_count": 87,
   "id": "c010feda",
   "metadata": {},
   "outputs": [
    {
     "data": {
      "text/plain": [
       "1"
      ]
     },
     "execution_count": 87,
     "metadata": {},
     "output_type": "execute_result"
    }
   ],
   "source": [
    "train_labels[0]"
   ]
  },
  {
   "cell_type": "code",
   "execution_count": 88,
   "id": "5f1db0d3",
   "metadata": {},
   "outputs": [
    {
     "data": {
      "text/plain": [
       "9999"
      ]
     },
     "execution_count": 88,
     "metadata": {},
     "output_type": "execute_result"
    }
   ],
   "source": [
    "max([max(sequence) for sequence in train_data])"
   ]
  },
  {
   "cell_type": "code",
   "execution_count": 89,
   "id": "d1bd1326",
   "metadata": {},
   "outputs": [],
   "source": [
    "word_index = imdb.get_word_index()\n",
    "reverse_word_index = dict(\n",
    "    [(value, key) for (key, value) in word_index.items()])\n",
    "decoded_review = ' '.join(\n",
    "    [reverse_word_index.get(i - 3, '?') for i in train_data[0]])"
   ]
  },
  {
   "cell_type": "code",
   "execution_count": 90,
   "id": "80965f3f",
   "metadata": {},
   "outputs": [
    {
     "name": "stdout",
     "output_type": "stream",
     "text": [
      "? this film was just brilliant casting location scenery story direction everyone's really suited the part they played and you could just imagine being there robert ? is an amazing actor and now the same being director ? father came from the same scottish island as myself so i loved the fact there was a real connection with this film the witty remarks throughout the film were great it was just brilliant so much that i bought the film as soon as it was released for ? and would recommend it to everyone to watch and the fly fishing was amazing really cried at the end it was so sad and you know what they say if you cry at a film it must have been good and this definitely was also ? to the two little boy's that played the ? of norman and paul they were just brilliant children are often left out of the ? list i think because the stars that play them all grown up are such a big profile for the whole film but these children are amazing and should be praised for what they have done don't you think the whole story was so lovely because it was true and was someone's life after all that was shared with us all\n"
     ]
    }
   ],
   "source": [
    "print(decoded_review)"
   ]
  },
  {
   "cell_type": "code",
   "execution_count": 91,
   "id": "b4e08e0e",
   "metadata": {},
   "outputs": [],
   "source": [
    "import numpy as np\n",
    "\n",
    "def vectorize_sequences(sequences, dimension=10000):\n",
    "    # 크기가 (len(sequences), dimension))이고 모든 원소가 0인 행렬을 만듬\n",
    "    results = np.zeros((len(sequences), dimension))\n",
    "    for i, sequence in enumerate(sequences):\n",
    "        results[i, sequence] = 1.  # results[i]에서 특정 인덱스의 위치를 1로 만듬\n",
    "    return results\n",
    "\n",
    "# 훈련 데이터를 벡터로 변환함\n",
    "x_train = vectorize_sequences(train_data)\n",
    "# 테스트 데이터를 벡터로 변환함\n",
    "x_test = vectorize_sequences(test_data)"
   ]
  },
  {
   "cell_type": "code",
   "execution_count": 92,
   "id": "294ab239",
   "metadata": {},
   "outputs": [
    {
     "data": {
      "text/plain": [
       "array([0., 1., 1., ..., 0., 0., 0.])"
      ]
     },
     "execution_count": 92,
     "metadata": {},
     "output_type": "execute_result"
    }
   ],
   "source": [
    "x_train[0]"
   ]
  },
  {
   "cell_type": "code",
   "execution_count": 93,
   "id": "f2bb3b9e",
   "metadata": {},
   "outputs": [
    {
     "name": "stdout",
     "output_type": "stream",
     "text": [
      "[[0. 1. 1. ... 0. 0. 0.]\n",
      " [0. 1. 1. ... 0. 0. 0.]\n",
      " [0. 1. 1. ... 0. 0. 0.]\n",
      " ...\n",
      " [0. 1. 1. ... 0. 0. 0.]\n",
      " [0. 1. 1. ... 0. 0. 0.]\n",
      " [0. 1. 1. ... 0. 0. 0.]]\n"
     ]
    }
   ],
   "source": [
    "print(x_train)"
   ]
  },
  {
   "cell_type": "code",
   "execution_count": 94,
   "id": "280295a7",
   "metadata": {},
   "outputs": [],
   "source": [
    "# 레이블을 벡터로 바꿈\n",
    "y_train = np.asarray(train_labels).astype('float32')\n",
    "y_test = np.asarray(test_labels).astype('float32')"
   ]
  },
  {
   "cell_type": "code",
   "execution_count": 95,
   "id": "d8073b9f",
   "metadata": {},
   "outputs": [],
   "source": [
    "from keras import models\n",
    "from keras import layers\n",
    "\n",
    "model = models.Sequential()\n",
    "model.add(layers.Dense(16, activation='relu', input_shape=(10000,)))\n",
    "model.add(layers.Dense(16, activation='relu'))\n",
    "model.add(layers.Dense(1, activation='sigmoid'))"
   ]
  },
  {
   "cell_type": "code",
   "execution_count": 96,
   "id": "be2a0cf6",
   "metadata": {},
   "outputs": [],
   "source": [
    "model.compile(optimizer='rmsprop',\n",
    "              loss='binary_crossentropy',\n",
    "              metrics=['accuracy'])"
   ]
  },
  {
   "cell_type": "code",
   "execution_count": 97,
   "id": "28b4e27e",
   "metadata": {},
   "outputs": [],
   "source": [
    "from keras import optimizers\n",
    "\n",
    "model.compile(optimizer=optimizers.RMSprop(lr=0.001),\n",
    "              loss='binary_crossentropy',\n",
    "              metrics=['accuracy'])"
   ]
  },
  {
   "cell_type": "code",
   "execution_count": 98,
   "id": "8415854c",
   "metadata": {},
   "outputs": [],
   "source": [
    "from keras import losses\n",
    "from keras import metrics\n",
    "\n",
    "model.compile(optimizer=optimizers.RMSprop(lr=0.001),\n",
    "              loss=losses.binary_crossentropy,\n",
    "              metrics=[metrics.binary_accuracy])"
   ]
  },
  {
   "cell_type": "code",
   "execution_count": 82,
   "id": "eafbc75b",
   "metadata": {},
   "outputs": [],
   "source": [
    "x_val = x_train[:10000]\n",
    "partial_x_train = x_train[10000:]\n",
    "\n",
    "y_val = y_train[:10000]\n",
    "partial_y_train = y_train[10000:]"
   ]
  },
  {
   "cell_type": "code",
   "execution_count": 99,
   "id": "cef76c08",
   "metadata": {},
   "outputs": [
    {
     "name": "stdout",
     "output_type": "stream",
     "text": [
      "Epoch 1/20\n",
      "30/30 [==============================] - 1s 24ms/step - loss: 0.5149 - acc: 0.7972 - val_loss: 0.3907 - val_acc: 0.8618\n",
      "Epoch 2/20\n",
      "30/30 [==============================] - 0s 16ms/step - loss: 0.3045 - acc: 0.9048 - val_loss: 0.3328 - val_acc: 0.8666\n",
      "Epoch 3/20\n",
      "30/30 [==============================] - 0s 16ms/step - loss: 0.2264 - acc: 0.9271 - val_loss: 0.2819 - val_acc: 0.8895\n",
      "Epoch 4/20\n",
      "30/30 [==============================] - 0s 15ms/step - loss: 0.1763 - acc: 0.9443 - val_loss: 0.2873 - val_acc: 0.8854\n",
      "Epoch 5/20\n",
      "30/30 [==============================] - 0s 16ms/step - loss: 0.1467 - acc: 0.9521 - val_loss: 0.2822 - val_acc: 0.8890\n",
      "Epoch 6/20\n",
      "30/30 [==============================] - 0s 15ms/step - loss: 0.1205 - acc: 0.9630 - val_loss: 0.2913 - val_acc: 0.8854\n",
      "Epoch 7/20\n",
      "30/30 [==============================] - 0s 15ms/step - loss: 0.1010 - acc: 0.9711 - val_loss: 0.3495 - val_acc: 0.8756\n",
      "Epoch 8/20\n",
      "30/30 [==============================] - 0s 15ms/step - loss: 0.0842 - acc: 0.9762 - val_loss: 0.3236 - val_acc: 0.8816\n",
      "Epoch 9/20\n",
      "30/30 [==============================] - 0s 16ms/step - loss: 0.0711 - acc: 0.9805 - val_loss: 0.3533 - val_acc: 0.8797\n",
      "Epoch 10/20\n",
      "30/30 [==============================] - 0s 16ms/step - loss: 0.0579 - acc: 0.9857 - val_loss: 0.3756 - val_acc: 0.8806\n",
      "Epoch 11/20\n",
      "30/30 [==============================] - 1s 18ms/step - loss: 0.0485 - acc: 0.9892 - val_loss: 0.3936 - val_acc: 0.8777\n",
      "Epoch 12/20\n",
      "30/30 [==============================] - 0s 16ms/step - loss: 0.0387 - acc: 0.9917 - val_loss: 0.4336 - val_acc: 0.8770\n",
      "Epoch 13/20\n",
      "30/30 [==============================] - 0s 16ms/step - loss: 0.0308 - acc: 0.9937 - val_loss: 0.4977 - val_acc: 0.8617\n",
      "Epoch 14/20\n",
      "30/30 [==============================] - 1s 17ms/step - loss: 0.0246 - acc: 0.9955 - val_loss: 0.5136 - val_acc: 0.8687\n",
      "Epoch 15/20\n",
      "30/30 [==============================] - 0s 15ms/step - loss: 0.0186 - acc: 0.9976 - val_loss: 0.5194 - val_acc: 0.8704\n",
      "Epoch 16/20\n",
      "30/30 [==============================] - 0s 15ms/step - loss: 0.0148 - acc: 0.9986 - val_loss: 0.5581 - val_acc: 0.8699\n",
      "Epoch 17/20\n",
      "30/30 [==============================] - 0s 15ms/step - loss: 0.0130 - acc: 0.9986 - val_loss: 0.5866 - val_acc: 0.8688\n",
      "Epoch 18/20\n",
      "30/30 [==============================] - 0s 15ms/step - loss: 0.0100 - acc: 0.9990 - val_loss: 0.6222 - val_acc: 0.8684\n",
      "Epoch 19/20\n",
      "30/30 [==============================] - 0s 15ms/step - loss: 0.0067 - acc: 0.9997 - val_loss: 0.6622 - val_acc: 0.8643\n",
      "Epoch 20/20\n",
      "30/30 [==============================] - 0s 15ms/step - loss: 0.0078 - acc: 0.9985 - val_loss: 0.6900 - val_acc: 0.8652\n"
     ]
    }
   ],
   "source": [
    "model.compile(optimizer='rmsprop',\n",
    "              loss='binary_crossentropy',\n",
    "              metrics=['acc'])\n",
    "\n",
    "history = model.fit(partial_x_train,\n",
    "                    partial_y_train,\n",
    "                    epochs=20,\n",
    "                    batch_size=512,\n",
    "                    validation_data=(x_val, y_val))"
   ]
  },
  {
   "cell_type": "code",
   "execution_count": 84,
   "id": "34c27380",
   "metadata": {},
   "outputs": [
    {
     "data": {
      "text/plain": [
       "dict_keys(['loss', 'accuracy', 'val_loss', 'val_accuracy'])"
      ]
     },
     "execution_count": 84,
     "metadata": {},
     "output_type": "execute_result"
    }
   ],
   "source": [
    "history_dict = history.history\n",
    "history_dict.keys()"
   ]
  },
  {
   "cell_type": "code",
   "execution_count": 101,
   "id": "3cca7ffb",
   "metadata": {},
   "outputs": [
    {
     "data": {
      "image/png": "[encoded data removed]",
      "text/plain": [
       "<Figure size 640x480 with 1 Axes>"
      ]
     },
     "metadata": {},
     "output_type": "display_data"
    }
   ],
   "source": [
    "import matplotlib.pyplot as plt\n",
    "\n",
    "history_dict = history.history\n",
    "loss = history_dict['loss']\n",
    "val_loss = history_dict['val_loss']\n",
    "\n",
    "epochs = range(1, len(loss) + 1)\n",
    "\n",
    "plt.plot(epochs, loss, 'bo', label='Training loss')\n",
    "plt.plot(epochs, val_loss, 'b', label='Validation loss')\n",
    "plt.title('Training and validation loss')\n",
    "plt.xlabel('Epochs')\n",
    "plt.ylabel('Loss')\n",
    "plt.legend()\n",
    "\n",
    "plt.show()"
   ]
  },
  {
   "cell_type": "code",
   "execution_count": 102,
   "id": "b1e2a7cc",
   "metadata": {},
   "outputs": [
    {
     "data": {
      "image/png": "[encoded data removed]",
      "text/plain": [
       "<Figure size 640x480 with 1 Axes>"
      ]
     },
     "metadata": {},
     "output_type": "display_data"
    }
   ],
   "source": [
    "plt.clf()\n",
    "acc = history_dict['acc']\n",
    "val_acc = history_dict['val_acc']\n",
    "\n",
    "plt.plot(epochs, acc, 'bo', label='Training acc')\n",
    "plt.plot(epochs, val_acc, 'b', label='Validation acc')\n",
    "plt.title('Training and validation accuracy')\n",
    "plt.xlabel('Epochs')\n",
    "plt.ylabel('Accuracy')\n",
    "plt.legend()\n",
    "\n",
    "plt.show()"
   ]
  },
  {
   "cell_type": "code",
   "execution_count": 104,
   "id": "7243ecbe",
   "metadata": {},
   "outputs": [
    {
     "name": "stdout",
     "output_type": "stream",
     "text": [
      "Epoch 1/4\n",
      "49/49 [==============================] - 1s 10ms/step - loss: 0.4955 - accuracy: 0.8021\n",
      "Epoch 2/4\n",
      "49/49 [==============================] - 0s 10ms/step - loss: 0.2829 - accuracy: 0.9047\n",
      "Epoch 3/4\n",
      "49/49 [==============================] - 0s 10ms/step - loss: 0.2120 - accuracy: 0.9275\n",
      "Epoch 4/4\n",
      "49/49 [==============================] - 0s 9ms/step - loss: 0.1742 - accuracy: 0.9398\n",
      "782/782 [==============================] - 1s 1ms/step - loss: 0.2916 - accuracy: 0.8848\n"
     ]
    }
   ],
   "source": [
    "model = models.Sequential()\n",
    "model.add(layers.Dense(16, activation='relu', input_shape=(10000,)))\n",
    "model.add(layers.Dense(16, activation='relu'))\n",
    "model.add(layers.Dense(1, activation='sigmoid'))\n",
    "\n",
    "model.compile(optimizer='rmsprop',\n",
    "              loss='binary_crossentropy',\n",
    "              metrics=['accuracy'])\n",
    "\n",
    "model.fit(x_train, y_train, epochs=4, batch_size=512)\n",
    "results = model.evaluate(x_test, y_test)"
   ]
  },
  {
   "cell_type": "code",
   "execution_count": 107,
   "id": "9c111168",
   "metadata": {},
   "outputs": [
    {
     "name": "stdout",
     "output_type": "stream",
     "text": [
      "[0.2915864884853363, 0.8848400115966797]\n"
     ]
    }
   ],
   "source": [
    "print(results)"
   ]
  },
  {
   "cell_type": "code",
   "execution_count": 109,
   "id": "c92ee360",
   "metadata": {},
   "outputs": [
    {
     "name": "stdout",
     "output_type": "stream",
     "text": [
      "782/782 [==============================] - 1s 1ms/step\n"
     ]
    },
    {
     "data": {
      "text/plain": [
       "array([[0.21489438],\n",
       "       [0.9999739 ],\n",
       "       [0.96616805],\n",
       "       ...,\n",
       "       [0.14528608],\n",
       "       [0.11756521],\n",
       "       [0.72294456]], dtype=float32)"
      ]
     },
     "execution_count": 109,
     "metadata": {},
     "output_type": "execute_result"
    }
   ],
   "source": [
    "model.predict(x_test)"
   ]
  },
  {
   "cell_type": "code",
   "execution_count": 110,
   "id": "0e352b2f",
   "metadata": {},
   "outputs": [
    {
     "name": "stdout",
     "output_type": "stream",
     "text": [
      "Epoch 1/20\n",
      "30/30 [==============================] - 1s 24ms/step - loss: 0.5076 - acc: 0.7972 - val_loss: 0.4121 - val_acc: 0.8426\n",
      "Epoch 2/20\n",
      "30/30 [==============================] - 0s 14ms/step - loss: 0.3254 - acc: 0.8998 - val_loss: 0.3241 - val_acc: 0.8848\n",
      "Epoch 3/20\n",
      "30/30 [==============================] - 0s 15ms/step - loss: 0.2512 - acc: 0.9243 - val_loss: 0.3006 - val_acc: 0.8842\n",
      "Epoch 4/20\n",
      "30/30 [==============================] - 0s 15ms/step - loss: 0.2062 - acc: 0.9374 - val_loss: 0.2775 - val_acc: 0.8900\n",
      "Epoch 5/20\n",
      "30/30 [==============================] - 0s 15ms/step - loss: 0.1753 - acc: 0.9473 - val_loss: 0.2744 - val_acc: 0.8889\n",
      "Epoch 6/20\n",
      "30/30 [==============================] - 0s 15ms/step - loss: 0.1514 - acc: 0.9551 - val_loss: 0.2754 - val_acc: 0.8884\n",
      "Epoch 7/20\n",
      "30/30 [==============================] - 0s 14ms/step - loss: 0.1322 - acc: 0.9620 - val_loss: 0.2801 - val_acc: 0.8870\n",
      "Epoch 8/20\n",
      "30/30 [==============================] - 0s 15ms/step - loss: 0.1158 - acc: 0.9679 - val_loss: 0.2863 - val_acc: 0.8861\n",
      "Epoch 9/20\n",
      "30/30 [==============================] - 0s 15ms/step - loss: 0.1035 - acc: 0.9709 - val_loss: 0.3044 - val_acc: 0.8859\n",
      "Epoch 10/20\n",
      "30/30 [==============================] - 0s 15ms/step - loss: 0.0903 - acc: 0.9766 - val_loss: 0.3037 - val_acc: 0.8835\n",
      "Epoch 11/20\n",
      "30/30 [==============================] - 0s 15ms/step - loss: 0.0814 - acc: 0.9805 - val_loss: 0.3153 - val_acc: 0.8844\n",
      "Epoch 12/20\n",
      "30/30 [==============================] - 0s 15ms/step - loss: 0.0729 - acc: 0.9813 - val_loss: 0.3272 - val_acc: 0.8825\n",
      "Epoch 13/20\n",
      "30/30 [==============================] - 1s 17ms/step - loss: 0.0633 - acc: 0.9866 - val_loss: 0.3448 - val_acc: 0.8775\n",
      "Epoch 14/20\n",
      "30/30 [==============================] - 0s 16ms/step - loss: 0.0568 - acc: 0.9876 - val_loss: 0.3557 - val_acc: 0.8808\n",
      "Epoch 15/20\n",
      "30/30 [==============================] - 0s 16ms/step - loss: 0.0502 - acc: 0.9899 - val_loss: 0.3731 - val_acc: 0.8789\n",
      "Epoch 16/20\n",
      "30/30 [==============================] - 0s 15ms/step - loss: 0.0444 - acc: 0.9918 - val_loss: 0.3922 - val_acc: 0.8782\n",
      "Epoch 17/20\n",
      "30/30 [==============================] - 0s 16ms/step - loss: 0.0392 - acc: 0.9936 - val_loss: 0.4094 - val_acc: 0.8773\n",
      "Epoch 18/20\n",
      "30/30 [==============================] - 0s 14ms/step - loss: 0.0343 - acc: 0.9944 - val_loss: 0.4296 - val_acc: 0.8759\n",
      "Epoch 19/20\n",
      "30/30 [==============================] - 1s 17ms/step - loss: 0.0295 - acc: 0.9959 - val_loss: 0.4440 - val_acc: 0.8743\n",
      "Epoch 20/20\n",
      "30/30 [==============================] - 0s 14ms/step - loss: 0.0266 - acc: 0.9962 - val_loss: 0.4595 - val_acc: 0.8694\n"
     ]
    }
   ],
   "source": [
    "#1개의 은닉 층을 사용하고 검증 정확도에 어떤 영향을 미치는지 확인\n",
    "model = models.Sequential()\n",
    "model.add(layers.Dense(16, activation='relu', input_shape=(10000,)))\n",
    "model.add(layers.Dense(1, activation='sigmoid'))\n",
    "\n",
    "x_val = x_train[:10000]\n",
    "partial_x_train = x_train[10000:]\n",
    "\n",
    "y_val = y_train[:10000]\n",
    "partial_y_train = y_train[10000:]\n",
    "\n",
    "model.compile(optimizer='rmsprop',\n",
    "              loss='binary_crossentropy',\n",
    "              metrics=['acc'])\n",
    "\n",
    "history = model.fit(partial_x_train,\n",
    "                    partial_y_train,\n",
    "                    epochs=20,\n",
    "                    batch_size=512,\n",
    "                    validation_data=(x_val, y_val))"
   ]
  },
  {
   "cell_type": "code",
   "execution_count": 111,
   "id": "633b16c7",
   "metadata": {},
   "outputs": [
    {
     "name": "stdout",
     "output_type": "stream",
     "text": [
      "Epoch 1/20\n",
      "30/30 [==============================] - 1s 22ms/step - loss: 0.5782 - acc: 0.7467 - val_loss: 0.4460 - val_acc: 0.8647\n",
      "Epoch 2/20\n",
      "30/30 [==============================] - 0s 15ms/step - loss: 0.3485 - acc: 0.8928 - val_loss: 0.3210 - val_acc: 0.8845\n",
      "Epoch 3/20\n",
      "30/30 [==============================] - 0s 15ms/step - loss: 0.2385 - acc: 0.9243 - val_loss: 0.2861 - val_acc: 0.8899\n",
      "Epoch 4/20\n",
      "30/30 [==============================] - 0s 15ms/step - loss: 0.1812 - acc: 0.9414 - val_loss: 0.2817 - val_acc: 0.8881\n",
      "Epoch 5/20\n",
      "30/30 [==============================] - 0s 15ms/step - loss: 0.1457 - acc: 0.9541 - val_loss: 0.2865 - val_acc: 0.8857\n",
      "Epoch 6/20\n",
      "30/30 [==============================] - 0s 15ms/step - loss: 0.1133 - acc: 0.9646 - val_loss: 0.3068 - val_acc: 0.8841\n",
      "Epoch 7/20\n",
      "30/30 [==============================] - 0s 15ms/step - loss: 0.0941 - acc: 0.9717 - val_loss: 0.3271 - val_acc: 0.8839\n",
      "Epoch 8/20\n",
      "30/30 [==============================] - 0s 15ms/step - loss: 0.0766 - acc: 0.9789 - val_loss: 0.4015 - val_acc: 0.8638\n",
      "Epoch 9/20\n",
      "30/30 [==============================] - 0s 15ms/step - loss: 0.0588 - acc: 0.9849 - val_loss: 0.3767 - val_acc: 0.8785\n",
      "Epoch 10/20\n",
      "30/30 [==============================] - 0s 17ms/step - loss: 0.0454 - acc: 0.9891 - val_loss: 0.4194 - val_acc: 0.8715\n",
      "Epoch 11/20\n",
      "30/30 [==============================] - 0s 15ms/step - loss: 0.0364 - acc: 0.9918 - val_loss: 0.4836 - val_acc: 0.8727\n",
      "Epoch 12/20\n",
      "30/30 [==============================] - 0s 16ms/step - loss: 0.0290 - acc: 0.9935 - val_loss: 0.4797 - val_acc: 0.8756\n",
      "Epoch 13/20\n",
      "30/30 [==============================] - 0s 16ms/step - loss: 0.0266 - acc: 0.9938 - val_loss: 0.5052 - val_acc: 0.8737\n",
      "Epoch 14/20\n",
      "30/30 [==============================] - 0s 15ms/step - loss: 0.0138 - acc: 0.9980 - val_loss: 0.5452 - val_acc: 0.8671\n",
      "Epoch 15/20\n",
      "30/30 [==============================] - 0s 17ms/step - loss: 0.0202 - acc: 0.9941 - val_loss: 0.5745 - val_acc: 0.8708\n",
      "Epoch 16/20\n",
      "30/30 [==============================] - 0s 15ms/step - loss: 0.0064 - acc: 0.9993 - val_loss: 0.6037 - val_acc: 0.8702\n",
      "Epoch 17/20\n",
      "30/30 [==============================] - 0s 16ms/step - loss: 0.0149 - acc: 0.9955 - val_loss: 0.6569 - val_acc: 0.8688\n",
      "Epoch 18/20\n",
      "30/30 [==============================] - 0s 16ms/step - loss: 0.0033 - acc: 0.9996 - val_loss: 0.6747 - val_acc: 0.8670\n",
      "Epoch 19/20\n",
      "30/30 [==============================] - 0s 16ms/step - loss: 0.0024 - acc: 0.9998 - val_loss: 0.7178 - val_acc: 0.8658\n",
      "Epoch 20/20\n",
      "30/30 [==============================] - 0s 16ms/step - loss: 0.0147 - acc: 0.9966 - val_loss: 0.7641 - val_acc: 0.8650\n"
     ]
    }
   ],
   "source": [
    "#3개의 은닉 층을 사용하고 검증 정확도에 어떤 영향을 미치는지 확인\n",
    "model = models.Sequential()\n",
    "model.add(layers.Dense(16, activation='relu', input_shape=(10000,)))\n",
    "model.add(layers.Dense(16, activation='relu'))\n",
    "model.add(layers.Dense(16, activation='relu'))\n",
    "model.add(layers.Dense(1, activation='sigmoid'))\n",
    "\n",
    "x_val = x_train[:10000]\n",
    "partial_x_train = x_train[10000:]\n",
    "\n",
    "y_val = y_train[:10000]\n",
    "partial_y_train = y_train[10000:]\n",
    "\n",
    "model.compile(optimizer='rmsprop',\n",
    "              loss='binary_crossentropy',\n",
    "              metrics=['acc'])\n",
    "\n",
    "history = model.fit(partial_x_train,\n",
    "                    partial_y_train,\n",
    "                    epochs=20,\n",
    "                    batch_size=512,\n",
    "                    validation_data=(x_val, y_val))"
   ]
  },
  {
   "cell_type": "code",
   "execution_count": 112,
   "id": "e694cdf2",
   "metadata": {},
   "outputs": [
    {
     "name": "stdout",
     "output_type": "stream",
     "text": [
      "Epoch 1/20\n",
      "30/30 [==============================] - 1s 23ms/step - loss: 0.4973 - acc: 0.7852 - val_loss: 0.3786 - val_acc: 0.8586\n",
      "Epoch 2/20\n",
      "30/30 [==============================] - 0s 16ms/step - loss: 0.2712 - acc: 0.9101 - val_loss: 0.3030 - val_acc: 0.8784\n",
      "Epoch 3/20\n",
      "30/30 [==============================] - 0s 16ms/step - loss: 0.2027 - acc: 0.9295 - val_loss: 0.2835 - val_acc: 0.8869\n",
      "Epoch 4/20\n",
      "30/30 [==============================] - 0s 16ms/step - loss: 0.1552 - acc: 0.9462 - val_loss: 0.2935 - val_acc: 0.8843\n",
      "Epoch 5/20\n",
      "30/30 [==============================] - 0s 16ms/step - loss: 0.1210 - acc: 0.9614 - val_loss: 0.2941 - val_acc: 0.8880\n",
      "Epoch 6/20\n",
      "30/30 [==============================] - 0s 16ms/step - loss: 0.0980 - acc: 0.9697 - val_loss: 0.3407 - val_acc: 0.8796\n",
      "Epoch 7/20\n",
      "30/30 [==============================] - 0s 16ms/step - loss: 0.0739 - acc: 0.9779 - val_loss: 0.3485 - val_acc: 0.8782\n",
      "Epoch 8/20\n",
      "30/30 [==============================] - 1s 17ms/step - loss: 0.0591 - acc: 0.9838 - val_loss: 0.4334 - val_acc: 0.8710\n",
      "Epoch 9/20\n",
      "30/30 [==============================] - 0s 16ms/step - loss: 0.0509 - acc: 0.9859 - val_loss: 0.3998 - val_acc: 0.8788\n",
      "Epoch 10/20\n",
      "30/30 [==============================] - 0s 16ms/step - loss: 0.0357 - acc: 0.9910 - val_loss: 0.4373 - val_acc: 0.8754\n",
      "Epoch 11/20\n",
      "30/30 [==============================] - 0s 16ms/step - loss: 0.0344 - acc: 0.9901 - val_loss: 0.4538 - val_acc: 0.8769\n",
      "Epoch 12/20\n",
      "30/30 [==============================] - 1s 18ms/step - loss: 0.0191 - acc: 0.9963 - val_loss: 0.6305 - val_acc: 0.8521\n",
      "Epoch 13/20\n",
      "30/30 [==============================] - 0s 16ms/step - loss: 0.0119 - acc: 0.9989 - val_loss: 0.5297 - val_acc: 0.8736\n",
      "Epoch 14/20\n",
      "30/30 [==============================] - 0s 16ms/step - loss: 0.0200 - acc: 0.9945 - val_loss: 0.5650 - val_acc: 0.8707\n",
      "Epoch 15/20\n",
      "30/30 [==============================] - 0s 16ms/step - loss: 0.0047 - acc: 0.9998 - val_loss: 0.6030 - val_acc: 0.8708\n",
      "Epoch 16/20\n",
      "30/30 [==============================] - 0s 16ms/step - loss: 0.0147 - acc: 0.9957 - val_loss: 0.6398 - val_acc: 0.8686\n",
      "Epoch 17/20\n",
      "30/30 [==============================] - 0s 17ms/step - loss: 0.0024 - acc: 0.9999 - val_loss: 0.6794 - val_acc: 0.8691\n",
      "Epoch 18/20\n",
      "30/30 [==============================] - 0s 16ms/step - loss: 0.0155 - acc: 0.9952 - val_loss: 0.7097 - val_acc: 0.8675\n",
      "Epoch 19/20\n",
      "30/30 [==============================] - 0s 16ms/step - loss: 0.0013 - acc: 0.9999 - val_loss: 0.7362 - val_acc: 0.8682\n",
      "Epoch 20/20\n",
      "30/30 [==============================] - 0s 15ms/step - loss: 9.7875e-04 - acc: 1.0000 - val_loss: 0.7794 - val_acc: 0.8676\n"
     ]
    }
   ],
   "source": [
    "#층의 은닉 유닛 추가 (32개 유닛의 경우) 및 검증 정확도 확인\n",
    "model = models.Sequential()\n",
    "model.add(layers.Dense(32, activation='relu', input_shape=(10000,)))\n",
    "model.add(layers.Dense(32, activation='relu'))\n",
    "model.add(layers.Dense(1, activation='sigmoid'))\n",
    "\n",
    "x_val = x_train[:10000]\n",
    "partial_x_train = x_train[10000:]\n",
    "\n",
    "y_val = y_train[:10000]\n",
    "partial_y_train = y_train[10000:]\n",
    "\n",
    "model.compile(optimizer='rmsprop',\n",
    "              loss='binary_crossentropy',\n",
    "              metrics=['acc'])\n",
    "\n",
    "history = model.fit(partial_x_train,\n",
    "                    partial_y_train,\n",
    "                    epochs=20,\n",
    "                    batch_size=512,\n",
    "                    validation_data=(x_val, y_val))"
   ]
  },
  {
   "cell_type": "code",
   "execution_count": 113,
   "id": "e44ba14d",
   "metadata": {},
   "outputs": [
    {
     "name": "stdout",
     "output_type": "stream",
     "text": [
      "Epoch 1/20\n",
      "30/30 [==============================] - 2s 43ms/step - loss: 0.4898 - acc: 0.7566 - val_loss: 0.3270 - val_acc: 0.8755\n",
      "Epoch 2/20\n",
      "30/30 [==============================] - 1s 27ms/step - loss: 0.2610 - acc: 0.9030 - val_loss: 0.3019 - val_acc: 0.8781\n",
      "Epoch 3/20\n",
      "30/30 [==============================] - 1s 24ms/step - loss: 0.1883 - acc: 0.9327 - val_loss: 0.2825 - val_acc: 0.8898\n",
      "Epoch 4/20\n",
      "30/30 [==============================] - 1s 22ms/step - loss: 0.1417 - acc: 0.9489 - val_loss: 0.3135 - val_acc: 0.8774\n",
      "Epoch 5/20\n",
      "30/30 [==============================] - 1s 21ms/step - loss: 0.1055 - acc: 0.9651 - val_loss: 0.4188 - val_acc: 0.8601\n",
      "Epoch 6/20\n",
      "30/30 [==============================] - 1s 22ms/step - loss: 0.0710 - acc: 0.9778 - val_loss: 0.4162 - val_acc: 0.8732\n",
      "Epoch 7/20\n",
      "30/30 [==============================] - 1s 21ms/step - loss: 0.0616 - acc: 0.9814 - val_loss: 0.3823 - val_acc: 0.8793\n",
      "Epoch 8/20\n",
      "30/30 [==============================] - 1s 22ms/step - loss: 0.0445 - acc: 0.9857 - val_loss: 0.4182 - val_acc: 0.8788\n",
      "Epoch 9/20\n",
      "30/30 [==============================] - 1s 21ms/step - loss: 0.0422 - acc: 0.9868 - val_loss: 0.4468 - val_acc: 0.8770\n",
      "Epoch 10/20\n",
      "30/30 [==============================] - 1s 20ms/step - loss: 0.0092 - acc: 0.9992 - val_loss: 0.5108 - val_acc: 0.8744\n",
      "Epoch 11/20\n",
      "30/30 [==============================] - 1s 20ms/step - loss: 0.0437 - acc: 0.9886 - val_loss: 0.5376 - val_acc: 0.8775\n",
      "Epoch 12/20\n",
      "30/30 [==============================] - 1s 20ms/step - loss: 0.0034 - acc: 0.9999 - val_loss: 0.5834 - val_acc: 0.8755\n",
      "Epoch 13/20\n",
      "30/30 [==============================] - 1s 21ms/step - loss: 0.0438 - acc: 0.9893 - val_loss: 0.6083 - val_acc: 0.8717\n",
      "Epoch 14/20\n",
      "30/30 [==============================] - 1s 22ms/step - loss: 0.0019 - acc: 0.9999 - val_loss: 0.6315 - val_acc: 0.8747\n",
      "Epoch 15/20\n",
      "30/30 [==============================] - 1s 23ms/step - loss: 0.0012 - acc: 0.9999 - val_loss: 0.6911 - val_acc: 0.8697\n",
      "Epoch 16/20\n",
      "30/30 [==============================] - 1s 20ms/step - loss: 0.0437 - acc: 0.9900 - val_loss: 0.7644 - val_acc: 0.8658\n",
      "Epoch 17/20\n",
      "30/30 [==============================] - 1s 20ms/step - loss: 6.9860e-04 - acc: 1.0000 - val_loss: 0.7510 - val_acc: 0.8710\n",
      "Epoch 18/20\n",
      "30/30 [==============================] - 1s 20ms/step - loss: 4.0497e-04 - acc: 1.0000 - val_loss: 0.7854 - val_acc: 0.8717\n",
      "Epoch 19/20\n",
      "30/30 [==============================] - 1s 20ms/step - loss: 2.7093e-04 - acc: 1.0000 - val_loss: 0.8401 - val_acc: 0.8708\n",
      "Epoch 20/20\n",
      "30/30 [==============================] - 1s 20ms/step - loss: 0.0133 - acc: 0.9979 - val_loss: 1.1711 - val_acc: 0.8453\n"
     ]
    }
   ],
   "source": [
    "#층의 은닉 유닛 추가 (64개 유닛의 경우) 및 검증 정확도 확인\n",
    "model = models.Sequential()\n",
    "model.add(layers.Dense(64, activation='relu', input_shape=(10000,)))\n",
    "model.add(layers.Dense(64, activation='relu'))\n",
    "model.add(layers.Dense(1, activation='sigmoid'))\n",
    "\n",
    "x_val = x_train[:10000]\n",
    "partial_x_train = x_train[10000:]\n",
    "\n",
    "y_val = y_train[:10000]\n",
    "partial_y_train = y_train[10000:]\n",
    "\n",
    "model.compile(optimizer='rmsprop',\n",
    "              loss='binary_crossentropy',\n",
    "              metrics=['acc'])\n",
    "\n",
    "history = model.fit(partial_x_train,\n",
    "                    partial_y_train,\n",
    "                    epochs=20,\n",
    "                    batch_size=512,\n",
    "                    validation_data=(x_val, y_val))"
   ]
  },
  {
   "cell_type": "code",
   "execution_count": 114,
   "id": "07a2ee50",
   "metadata": {},
   "outputs": [
    {
     "name": "stdout",
     "output_type": "stream",
     "text": [
      "Epoch 1/20\n",
      "30/30 [==============================] - 1s 28ms/step - loss: 0.1540 - acc: 0.7895 - val_loss: 0.1136 - val_acc: 0.8522\n",
      "Epoch 2/20\n",
      "30/30 [==============================] - 1s 19ms/step - loss: 0.0756 - acc: 0.9050 - val_loss: 0.0837 - val_acc: 0.8891\n",
      "Epoch 3/20\n",
      "30/30 [==============================] - 1s 19ms/step - loss: 0.0567 - acc: 0.9295 - val_loss: 0.0826 - val_acc: 0.8867\n",
      "Epoch 4/20\n",
      "30/30 [==============================] - 1s 19ms/step - loss: 0.0407 - acc: 0.9511 - val_loss: 0.0912 - val_acc: 0.8781\n",
      "Epoch 5/20\n",
      "30/30 [==============================] - 1s 19ms/step - loss: 0.0300 - acc: 0.9655 - val_loss: 0.0854 - val_acc: 0.8855\n",
      "Epoch 6/20\n",
      "30/30 [==============================] - 1s 19ms/step - loss: 0.0209 - acc: 0.9769 - val_loss: 0.0898 - val_acc: 0.8796\n",
      "Epoch 7/20\n",
      "30/30 [==============================] - 1s 19ms/step - loss: 0.0207 - acc: 0.9759 - val_loss: 0.0902 - val_acc: 0.8821\n",
      "Epoch 8/20\n",
      "30/30 [==============================] - 1s 20ms/step - loss: 0.0143 - acc: 0.9838 - val_loss: 0.0935 - val_acc: 0.8805\n",
      "Epoch 9/20\n",
      "30/30 [==============================] - 1s 20ms/step - loss: 0.0054 - acc: 0.9957 - val_loss: 0.0974 - val_acc: 0.8769\n",
      "Epoch 10/20\n",
      "30/30 [==============================] - 1s 19ms/step - loss: 0.0120 - acc: 0.9867 - val_loss: 0.0970 - val_acc: 0.8785\n",
      "Epoch 11/20\n",
      "30/30 [==============================] - 1s 19ms/step - loss: 0.0030 - acc: 0.9973 - val_loss: 0.1336 - val_acc: 0.8377\n",
      "Epoch 12/20\n",
      "30/30 [==============================] - 1s 20ms/step - loss: 0.0085 - acc: 0.9899 - val_loss: 0.1000 - val_acc: 0.8738\n",
      "Epoch 13/20\n",
      "30/30 [==============================] - 1s 20ms/step - loss: 0.0045 - acc: 0.9951 - val_loss: 0.1065 - val_acc: 0.8685\n",
      "Epoch 14/20\n",
      "30/30 [==============================] - 1s 19ms/step - loss: 0.0017 - acc: 0.9984 - val_loss: 0.1028 - val_acc: 0.8745\n",
      "Epoch 15/20\n",
      "30/30 [==============================] - 1s 19ms/step - loss: 0.0015 - acc: 0.9985 - val_loss: 0.1040 - val_acc: 0.8744\n",
      "Epoch 16/20\n",
      "30/30 [==============================] - 1s 19ms/step - loss: 0.0099 - acc: 0.9890 - val_loss: 0.1051 - val_acc: 0.8743\n",
      "Epoch 17/20\n",
      "30/30 [==============================] - 1s 20ms/step - loss: 0.0013 - acc: 0.9987 - val_loss: 0.1059 - val_acc: 0.8741\n",
      "Epoch 18/20\n",
      "30/30 [==============================] - 1s 19ms/step - loss: 0.0011 - acc: 0.9990 - val_loss: 0.1083 - val_acc: 0.8692\n",
      "Epoch 19/20\n",
      "30/30 [==============================] - 1s 19ms/step - loss: 0.0010 - acc: 0.9990 - val_loss: 0.1089 - val_acc: 0.8702\n",
      "Epoch 20/20\n",
      "30/30 [==============================] - 1s 19ms/step - loss: 0.0010 - acc: 0.9990 - val_loss: 0.1134 - val_acc: 0.8684\n"
     ]
    }
   ],
   "source": [
    "#binary_crossentropy 대신 mse 손실 함수를 사용한 검증\n",
    "model = models.Sequential()\n",
    "model.add(layers.Dense(64, activation='relu', input_shape=(10000,)))\n",
    "model.add(layers.Dense(64, activation='relu'))\n",
    "model.add(layers.Dense(1, activation='sigmoid'))\n",
    "\n",
    "x_val = x_train[:10000]\n",
    "partial_x_train = x_train[10000:]\n",
    "\n",
    "y_val = y_train[:10000]\n",
    "partial_y_train = y_train[10000:]\n",
    "\n",
    "model.compile(optimizer='rmsprop',\n",
    "              loss='mse',\n",
    "              metrics=['acc'])\n",
    "\n",
    "history = model.fit(partial_x_train,\n",
    "                    partial_y_train,\n",
    "                    epochs=20,\n",
    "                    batch_size=512,\n",
    "                    validation_data=(x_val, y_val))"
   ]
  },
  {
   "cell_type": "code",
   "execution_count": 115,
   "id": "1dc0d713",
   "metadata": {},
   "outputs": [
    {
     "name": "stdout",
     "output_type": "stream",
     "text": [
      "Epoch 1/20\n",
      "30/30 [==============================] - 2s 42ms/step - loss: 0.4396 - acc: 0.8045 - val_loss: 0.3217 - val_acc: 0.8676\n",
      "Epoch 2/20\n",
      "30/30 [==============================] - 1s 24ms/step - loss: 0.2356 - acc: 0.9063 - val_loss: 0.2821 - val_acc: 0.8870\n",
      "Epoch 3/20\n",
      "30/30 [==============================] - 1s 21ms/step - loss: 0.1637 - acc: 0.9369 - val_loss: 0.4621 - val_acc: 0.8375\n",
      "Epoch 4/20\n",
      "30/30 [==============================] - 1s 21ms/step - loss: 0.1330 - acc: 0.9489 - val_loss: 0.3302 - val_acc: 0.8830\n",
      "Epoch 5/20\n",
      "30/30 [==============================] - 1s 21ms/step - loss: 0.1180 - acc: 0.9563 - val_loss: 0.4137 - val_acc: 0.8622\n",
      "Epoch 6/20\n",
      "30/30 [==============================] - 1s 22ms/step - loss: 0.0837 - acc: 0.9697 - val_loss: 0.4201 - val_acc: 0.8697\n",
      "Epoch 7/20\n",
      "30/30 [==============================] - 1s 19ms/step - loss: 0.0639 - acc: 0.9775 - val_loss: 0.4668 - val_acc: 0.8712\n",
      "Epoch 8/20\n",
      "30/30 [==============================] - 1s 20ms/step - loss: 0.0647 - acc: 0.9777 - val_loss: 0.5158 - val_acc: 0.8705\n",
      "Epoch 9/20\n",
      "30/30 [==============================] - 1s 20ms/step - loss: 0.0599 - acc: 0.9821 - val_loss: 0.5457 - val_acc: 0.8684\n",
      "Epoch 10/20\n",
      "30/30 [==============================] - 1s 19ms/step - loss: 0.0524 - acc: 0.9828 - val_loss: 0.5664 - val_acc: 0.8700\n",
      "Epoch 11/20\n",
      "30/30 [==============================] - 1s 21ms/step - loss: 0.0409 - acc: 0.9871 - val_loss: 0.5978 - val_acc: 0.8684\n",
      "Epoch 12/20\n",
      "30/30 [==============================] - 1s 19ms/step - loss: 0.0243 - acc: 0.9935 - val_loss: 0.7627 - val_acc: 0.8503\n",
      "Epoch 13/20\n",
      "30/30 [==============================] - 1s 20ms/step - loss: 0.0084 - acc: 0.9985 - val_loss: 0.7034 - val_acc: 0.8652\n",
      "Epoch 14/20\n",
      "30/30 [==============================] - 1s 20ms/step - loss: 0.0328 - acc: 0.9902 - val_loss: 0.7332 - val_acc: 0.8689\n",
      "Epoch 15/20\n",
      "30/30 [==============================] - 1s 21ms/step - loss: 0.0024 - acc: 0.9998 - val_loss: 0.8045 - val_acc: 0.8650\n",
      "Epoch 16/20\n",
      "30/30 [==============================] - 1s 20ms/step - loss: 0.0415 - acc: 0.9902 - val_loss: 0.8401 - val_acc: 0.8642\n",
      "Epoch 17/20\n",
      "30/30 [==============================] - 1s 19ms/step - loss: 0.0011 - acc: 0.9999 - val_loss: 0.8665 - val_acc: 0.8632\n",
      "Epoch 18/20\n",
      "30/30 [==============================] - 1s 20ms/step - loss: 5.5179e-04 - acc: 1.0000 - val_loss: 0.9299 - val_acc: 0.8621\n",
      "Epoch 19/20\n",
      "30/30 [==============================] - 1s 21ms/step - loss: 0.0539 - acc: 0.9899 - val_loss: 0.9959 - val_acc: 0.8606\n",
      "Epoch 20/20\n",
      "30/30 [==============================] - 1s 18ms/step - loss: 7.6569e-04 - acc: 0.9999 - val_loss: 1.0086 - val_acc: 0.8600\n"
     ]
    }
   ],
   "source": [
    "#relu 대신 tanh 활성화 함수를 사용한 검증\n",
    "model = models.Sequential()\n",
    "model.add(layers.Dense(64, activation='tanh', input_shape=(10000,)))\n",
    "model.add(layers.Dense(64, activation='tanh'))\n",
    "model.add(layers.Dense(1, activation='sigmoid'))\n",
    "\n",
    "x_val = x_train[:10000]\n",
    "partial_x_train = x_train[10000:]\n",
    "\n",
    "y_val = y_train[:10000]\n",
    "partial_y_train = y_train[10000:]\n",
    "\n",
    "model.compile(optimizer='rmsprop',\n",
    "              loss='binary_crossentropy',\n",
    "              metrics=['acc'])\n",
    "\n",
    "history = model.fit(partial_x_train,\n",
    "                    partial_y_train,\n",
    "                    epochs=20,\n",
    "                    batch_size=512,\n",
    "                    validation_data=(x_val, y_val))"
   ]
  },
  {
   "cell_type": "code",
   "execution_count": 116,
   "id": "13dcfe5a",
   "metadata": {},
   "outputs": [
    {
     "name": "stdout",
     "output_type": "stream",
     "text": [
      "Epoch 1/4\n",
      "49/49 [==============================] - 1s 9ms/step - loss: 0.4416 - accuracy: 0.8327\n",
      "Epoch 2/4\n",
      "49/49 [==============================] - 0s 9ms/step - loss: 0.2729 - accuracy: 0.9098\n",
      "Epoch 3/4\n",
      "49/49 [==============================] - 0s 8ms/step - loss: 0.2171 - accuracy: 0.9269\n",
      "Epoch 4/4\n",
      "49/49 [==============================] - 0s 8ms/step - loss: 0.1856 - accuracy: 0.9366\n",
      "782/782 [==============================] - 1s 994us/step - loss: 0.2794 - accuracy: 0.8894\n"
     ]
    }
   ],
   "source": [
    "#1개의 은닉 층을 사용하고 테스트 정확도에 어떤 영향을 미치는지 확인\n",
    "model = models.Sequential()\n",
    "model.add(layers.Dense(16, activation='relu', input_shape=(10000,)))\n",
    "model.add(layers.Dense(1, activation='sigmoid'))\n",
    "\n",
    "model.compile(optimizer='rmsprop',\n",
    "              loss='binary_crossentropy',\n",
    "              metrics=['accuracy'])\n",
    "\n",
    "model.fit(x_train, y_train, epochs=4, batch_size=512)\n",
    "results = model.evaluate(x_test, y_test)"
   ]
  },
  {
   "cell_type": "code",
   "execution_count": 118,
   "id": "1fff6120",
   "metadata": {},
   "outputs": [
    {
     "name": "stdout",
     "output_type": "stream",
     "text": [
      "Epoch 1/4\n",
      "49/49 [==============================] - 1s 9ms/step - loss: 0.4530 - accuracy: 0.8183\n",
      "Epoch 2/4\n",
      "49/49 [==============================] - 0s 9ms/step - loss: 0.2530 - accuracy: 0.9109\n",
      "Epoch 3/4\n",
      "49/49 [==============================] - 0s 9ms/step - loss: 0.2005 - accuracy: 0.9286\n",
      "Epoch 4/4\n",
      "49/49 [==============================] - 0s 9ms/step - loss: 0.1644 - accuracy: 0.9415\n",
      "782/782 [==============================] - 1s 1ms/step - loss: 0.3017 - accuracy: 0.8816\n"
     ]
    }
   ],
   "source": [
    "#3개의 은닉 층을 사용하고 테스트 정확도에 어떤 영향을 미치는지 확인\n",
    "model = models.Sequential()\n",
    "model.add(layers.Dense(16, activation='relu', input_shape=(10000,)))\n",
    "model.add(layers.Dense(16, activation='relu'))\n",
    "model.add(layers.Dense(16, activation='relu'))\n",
    "model.add(layers.Dense(1, activation='sigmoid'))\n",
    "\n",
    "model.compile(optimizer='rmsprop',\n",
    "              loss='binary_crossentropy',\n",
    "              metrics=['accuracy'])\n",
    "\n",
    "model.fit(x_train, y_train, epochs=4, batch_size=512)\n",
    "results = model.evaluate(x_test, y_test)"
   ]
  },
  {
   "cell_type": "code",
   "execution_count": 119,
   "id": "6c89786b",
   "metadata": {},
   "outputs": [
    {
     "name": "stdout",
     "output_type": "stream",
     "text": [
      "Epoch 1/4\n",
      "49/49 [==============================] - 1s 10ms/step - loss: 0.4122 - accuracy: 0.8276\n",
      "Epoch 2/4\n",
      "49/49 [==============================] - 1s 11ms/step - loss: 0.2375 - accuracy: 0.9100\n",
      "Epoch 3/4\n",
      "49/49 [==============================] - 1s 11ms/step - loss: 0.1863 - accuracy: 0.9318\n",
      "Epoch 4/4\n",
      "49/49 [==============================] - 0s 10ms/step - loss: 0.1587 - accuracy: 0.9430\n",
      "782/782 [==============================] - 1s 1ms/step - loss: 0.3551 - accuracy: 0.8666\n"
     ]
    }
   ],
   "source": [
    "#층의 은닉 유닛 추가 (32개 유닛의 경우) 및 테스트 정확도 확인\n",
    "model = models.Sequential()\n",
    "model.add(layers.Dense(32, activation='relu', input_shape=(10000,)))\n",
    "model.add(layers.Dense(32, activation='relu'))\n",
    "model.add(layers.Dense(1, activation='sigmoid'))\n",
    "\n",
    "model.compile(optimizer='rmsprop',\n",
    "              loss='binary_crossentropy',\n",
    "              metrics=['accuracy'])\n",
    "\n",
    "model.fit(x_train, y_train, epochs=4, batch_size=512)\n",
    "results = model.evaluate(x_test, y_test)"
   ]
  },
  {
   "cell_type": "code",
   "execution_count": 122,
   "id": "961434c7",
   "metadata": {},
   "outputs": [
    {
     "name": "stdout",
     "output_type": "stream",
     "text": [
      "Epoch 1/4\n",
      "49/49 [==============================] - 6s 19ms/step - loss: 0.4169 - accuracy: 0.8166\n",
      "Epoch 2/4\n",
      "49/49 [==============================] - 1s 19ms/step - loss: 0.2377 - accuracy: 0.9095\n",
      "Epoch 3/4\n",
      "49/49 [==============================] - 1s 17ms/step - loss: 0.1814 - accuracy: 0.9309\n",
      "Epoch 4/4\n",
      "49/49 [==============================] - 1s 17ms/step - loss: 0.1498 - accuracy: 0.9437\n",
      "782/782 [==============================] - 2s 2ms/step - loss: 0.3312 - accuracy: 0.8760\n"
     ]
    }
   ],
   "source": [
    "#층의 은닉 유닛 추가 (64개 유닛의 경우) 및 테스트 정확도 확인\n",
    "model = models.Sequential()\n",
    "model.add(layers.Dense(64, activation='relu', input_shape=(10000,)))\n",
    "model.add(layers.Dense(64, activation='relu'))\n",
    "model.add(layers.Dense(1, activation='sigmoid'))\n",
    "\n",
    "model.compile(optimizer='rmsprop',\n",
    "              loss='binary_crossentropy',\n",
    "              metrics=['accuracy'])\n",
    "\n",
    "model.fit(x_train, y_train, epochs=4, batch_size=512)\n",
    "results = model.evaluate(x_test, y_test)"
   ]
  },
  {
   "cell_type": "code",
   "execution_count": 121,
   "id": "a6906a0a",
   "metadata": {},
   "outputs": [
    {
     "name": "stdout",
     "output_type": "stream",
     "text": [
      "Epoch 1/4\n",
      "49/49 [==============================] - 1s 9ms/step - loss: 0.1545 - accuracy: 0.8165\n",
      "Epoch 2/4\n",
      "49/49 [==============================] - 0s 9ms/step - loss: 0.0806 - accuracy: 0.9112\n",
      "Epoch 3/4\n",
      "49/49 [==============================] - 0s 9ms/step - loss: 0.0605 - accuracy: 0.9297\n",
      "Epoch 4/4\n",
      "49/49 [==============================] - 0s 8ms/step - loss: 0.0491 - accuracy: 0.9419\n",
      "782/782 [==============================] - 1s 1ms/step - loss: 0.0853 - accuracy: 0.8842\n"
     ]
    }
   ],
   "source": [
    "#binary_crossentropy 대신 mse 손실 함수를 사용한 테스트\n",
    "model = models.Sequential()\n",
    "model.add(layers.Dense(16, activation='relu', input_shape=(10000,)))\n",
    "model.add(layers.Dense(16, activation='relu'))\n",
    "model.add(layers.Dense(1, activation='sigmoid'))\n",
    "\n",
    "model.compile(optimizer='rmsprop',\n",
    "              loss='mse',\n",
    "              metrics=['accuracy'])\n",
    "\n",
    "model.fit(x_train, y_train, epochs=4, batch_size=512)\n",
    "results = model.evaluate(x_test, y_test)"
   ]
  },
  {
   "cell_type": "code",
   "execution_count": 124,
   "id": "ff281d46",
   "metadata": {},
   "outputs": [
    {
     "name": "stdout",
     "output_type": "stream",
     "text": [
      "Epoch 1/4\n",
      "49/49 [==============================] - 1s 10ms/step - loss: 0.4232 - accuracy: 0.8318\n",
      "Epoch 2/4\n",
      "49/49 [==============================] - 0s 10ms/step - loss: 0.2359 - accuracy: 0.9138\n",
      "Epoch 3/4\n",
      "49/49 [==============================] - 1s 10ms/step - loss: 0.1780 - accuracy: 0.9340\n",
      "Epoch 4/4\n",
      "49/49 [==============================] - 0s 10ms/step - loss: 0.1495 - accuracy: 0.9462\n",
      "782/782 [==============================] - 1s 1ms/step - loss: 0.4013 - accuracy: 0.8535\n"
     ]
    }
   ],
   "source": [
    "#relu 대신 tanh 활성화 함수를 사용한 테스트\n",
    "model = models.Sequential()\n",
    "model.add(layers.Dense(16, activation='tanh', input_shape=(10000,)))\n",
    "model.add(layers.Dense(16, activation='tanh'))\n",
    "model.add(layers.Dense(1, activation='sigmoid'))\n",
    "\n",
    "model.compile(optimizer='rmsprop',\n",
    "              loss='binary_crossentropy',\n",
    "              metrics=['accuracy'])\n",
    "\n",
    "model.fit(x_train, y_train, epochs=4, batch_size=512)\n",
    "results = model.evaluate(x_test, y_test)"
   ]
  }
 ],
 "metadata": {
  "kernelspec": {
   "display_name": "Python 3 (ipykernel)",
   "language": "python",
   "name": "python3"
  },
  "language_info": {
   "codemirror_mode": {
    "name": "ipython",
    "version": 3
   },
   "file_extension": ".py",
   "mimetype": "text/x-python",
   "name": "python",
   "nbconvert_exporter": "python",
   "pygments_lexer": "ipython3",
   "version": "3.9.13"
  }
 },
 "nbformat": 4,
 "nbformat_minor": 5
}
