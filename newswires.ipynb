{
 "cells": [
  {
   "cell_type": "code",
   "execution_count": 9,
   "id": "b54c9aca",
   "metadata": {},
   "outputs": [],
   "source": [
    "from keras.datasets import reuters\n",
    "\n",
    "(train_data, train_labels), (test_data, test_labels) = reuters.load_data(\n",
    "    num_words=10000)"
   ]
  },
  {
   "cell_type": "code",
   "execution_count": 5,
   "id": "02709eb1",
   "metadata": {},
   "outputs": [
    {
     "data": {
      "text/plain": [
       "8982"
      ]
     },
     "execution_count": 5,
     "metadata": {},
     "output_type": "execute_result"
    }
   ],
   "source": [
    "len(train_data)"
   ]
  },
  {
   "cell_type": "code",
   "execution_count": 6,
   "id": "c1ddb68d",
   "metadata": {},
   "outputs": [
    {
     "data": {
      "text/plain": [
       "2246"
      ]
     },
     "execution_count": 6,
     "metadata": {},
     "output_type": "execute_result"
    }
   ],
   "source": [
    "len(test_data)"
   ]
  },
  {
   "cell_type": "code",
   "execution_count": 7,
   "id": "645cbc1f",
   "metadata": {},
   "outputs": [
    {
     "data": {
      "text/plain": [
       "[1,\n",
       " 245,\n",
       " 273,\n",
       " 207,\n",
       " 156,\n",
       " 53,\n",
       " 74,\n",
       " 160,\n",
       " 26,\n",
       " 14,\n",
       " 46,\n",
       " 296,\n",
       " 26,\n",
       " 39,\n",
       " 74,\n",
       " 2979,\n",
       " 3554,\n",
       " 14,\n",
       " 46,\n",
       " 4689,\n",
       " 4329,\n",
       " 86,\n",
       " 61,\n",
       " 3499,\n",
       " 4795,\n",
       " 14,\n",
       " 61,\n",
       " 451,\n",
       " 4329,\n",
       " 17,\n",
       " 12]"
      ]
     },
     "execution_count": 7,
     "metadata": {},
     "output_type": "execute_result"
    }
   ],
   "source": [
    "train_data[10]"
   ]
  },
  {
   "cell_type": "code",
   "execution_count": 8,
   "id": "1567b4f5",
   "metadata": {},
   "outputs": [
    {
     "name": "stdout",
     "output_type": "stream",
     "text": [
      "Downloading data from https://storage.googleapis.com/tensorflow/tf-keras-datasets/reuters_word_index.json\n",
      "550378/550378 [==============================] - 0s 0us/step\n"
     ]
    }
   ],
   "source": [
    "word_index = reuters.get_word_index()\n",
    "reverse_word_index = dict([(value, key) for (key, value) in word_index.items()])\n",
    "decoded_newswire = ' '.join([reverse_word_index.get(i - 3, '?') for i in \n",
    "                             train_data[0]])"
   ]
  },
  {
   "cell_type": "code",
   "execution_count": 10,
   "id": "626ab31b",
   "metadata": {},
   "outputs": [
    {
     "name": "stdout",
     "output_type": "stream",
     "text": [
      "? ? ? said as a result of its december acquisition of space co it expects earnings per share in 1987 of 1 15 to 1 30 dlrs per share up from 70 cts in 1986 the company said pretax net should rise to nine to 10 mln dlrs from six mln dlrs in 1986 and rental operation revenues to 19 to 22 mln dlrs from 12 5 mln dlrs it said cash flow per share this year should be 2 50 to three dlrs reuter 3\n"
     ]
    }
   ],
   "source": [
    "print(decoded_newswire)"
   ]
  },
  {
   "cell_type": "code",
   "execution_count": 11,
   "id": "75b69ee0",
   "metadata": {},
   "outputs": [
    {
     "data": {
      "text/plain": [
       "3"
      ]
     },
     "execution_count": 11,
     "metadata": {},
     "output_type": "execute_result"
    }
   ],
   "source": [
    "train_labels[10]"
   ]
  },
  {
   "cell_type": "code",
   "execution_count": 12,
   "id": "1e33f86d",
   "metadata": {},
   "outputs": [],
   "source": [
    "import numpy as np\n",
    "\n",
    "def vectorize_sequences(sequences, dimension=10000):\n",
    "    results = np.zeros((len(sequences), dimension))\n",
    "    for i, sequence in enumerate(sequences):\n",
    "        results[i, sequence] = 1.\n",
    "    return results\n",
    "\n",
    "x_train = vectorize_sequences(train_data)\n",
    "x_test = vectorize_sequences(test_data)"
   ]
  },
  {
   "cell_type": "code",
   "execution_count": 15,
   "id": "fe8f7698",
   "metadata": {},
   "outputs": [],
   "source": [
    "def to_one_hot(labels, dimension=46):\n",
    "    results = np.zeros((len(labels), dimension))\n",
    "    for i, label in enumerate(labels):\n",
    "        results[i, label] = 1.\n",
    "    return results\n",
    "\n",
    "one_hot_train_labels = to_one_hot(train_labels)\n",
    "one_hot_test_labels = to_one_hot(test_labels)"
   ]
  },
  {
   "cell_type": "code",
   "execution_count": 27,
   "id": "995f5bf8",
   "metadata": {},
   "outputs": [],
   "source": [
    "from keras.utils.np_utils import to_categorical\n",
    "\n",
    "one_hot_train_labels = to_categorical(train_labels)\n",
    "one_hot_test_labels = to_categorical(test_labels)"
   ]
  },
  {
   "cell_type": "code",
   "execution_count": 17,
   "id": "7bc37ae4",
   "metadata": {},
   "outputs": [],
   "source": [
    "from keras import models\n",
    "from keras import layers\n",
    "\n",
    "model = models.Sequential()\n",
    "model.add(layers.Dense(64, activation='relu', input_shape=(10000,)))\n",
    "model.add(layers.Dense(64, activation='relu'))\n",
    "model.add(layers.Dense(46, activation='softmax'))"
   ]
  },
  {
   "cell_type": "code",
   "execution_count": 19,
   "id": "737d9abc",
   "metadata": {},
   "outputs": [],
   "source": [
    "model.compile(optimizer='rmsprop',\n",
    "              loss='categorical_crossentropy',\n",
    "              metrics=['accuracy'])"
   ]
  },
  {
   "cell_type": "code",
   "execution_count": 20,
   "id": "fbe5a0f5",
   "metadata": {},
   "outputs": [],
   "source": [
    "x_val = x_train[:1000]\n",
    "partial_x_train = x_train[1000:]\n",
    "\n",
    "y_val = one_hot_train_labels[:1000]\n",
    "partial_y_train = one_hot_train_labels[1000:]"
   ]
  },
  {
   "cell_type": "code",
   "execution_count": 21,
   "id": "d9c7cf2c",
   "metadata": {},
   "outputs": [
    {
     "name": "stdout",
     "output_type": "stream",
     "text": [
      "Epoch 1/20\n",
      "16/16 [==============================] - 1s 25ms/step - loss: 2.5610 - accuracy: 0.4949 - val_loss: 1.7046 - val_accuracy: 0.6420\n",
      "Epoch 2/20\n",
      "16/16 [==============================] - 0s 16ms/step - loss: 1.3997 - accuracy: 0.7073 - val_loss: 1.2815 - val_accuracy: 0.7220\n",
      "Epoch 3/20\n",
      "16/16 [==============================] - 0s 16ms/step - loss: 1.0275 - accuracy: 0.7801 - val_loss: 1.1180 - val_accuracy: 0.7560\n",
      "Epoch 4/20\n",
      "16/16 [==============================] - 0s 16ms/step - loss: 0.8153 - accuracy: 0.8272 - val_loss: 1.0089 - val_accuracy: 0.7880\n",
      "Epoch 5/20\n",
      "16/16 [==============================] - 0s 17ms/step - loss: 0.6460 - accuracy: 0.8675 - val_loss: 0.9695 - val_accuracy: 0.7890\n",
      "Epoch 6/20\n",
      "16/16 [==============================] - 0s 16ms/step - loss: 0.5178 - accuracy: 0.8954 - val_loss: 0.9148 - val_accuracy: 0.7980\n",
      "Epoch 7/20\n",
      "16/16 [==============================] - 0s 18ms/step - loss: 0.4137 - accuracy: 0.9183 - val_loss: 0.8900 - val_accuracy: 0.8060\n",
      "Epoch 8/20\n",
      "16/16 [==============================] - 0s 18ms/step - loss: 0.3355 - accuracy: 0.9327 - val_loss: 0.8970 - val_accuracy: 0.8110\n",
      "Epoch 9/20\n",
      "16/16 [==============================] - 0s 18ms/step - loss: 0.2770 - accuracy: 0.9399 - val_loss: 0.9130 - val_accuracy: 0.8010\n",
      "Epoch 10/20\n",
      "16/16 [==============================] - 0s 18ms/step - loss: 0.2399 - accuracy: 0.9440 - val_loss: 0.8804 - val_accuracy: 0.8200\n",
      "Epoch 11/20\n",
      "16/16 [==============================] - 0s 16ms/step - loss: 0.2088 - accuracy: 0.9476 - val_loss: 0.8967 - val_accuracy: 0.8140\n",
      "Epoch 12/20\n",
      "16/16 [==============================] - 0s 17ms/step - loss: 0.1795 - accuracy: 0.9518 - val_loss: 0.9453 - val_accuracy: 0.8100\n",
      "Epoch 13/20\n",
      "16/16 [==============================] - 0s 16ms/step - loss: 0.1642 - accuracy: 0.9535 - val_loss: 0.9924 - val_accuracy: 0.8120\n",
      "Epoch 14/20\n",
      "16/16 [==============================] - 0s 16ms/step - loss: 0.1536 - accuracy: 0.9548 - val_loss: 0.9800 - val_accuracy: 0.8030\n",
      "Epoch 15/20\n",
      "16/16 [==============================] - 0s 17ms/step - loss: 0.1411 - accuracy: 0.9563 - val_loss: 0.9919 - val_accuracy: 0.8060\n",
      "Epoch 16/20\n",
      "16/16 [==============================] - 0s 18ms/step - loss: 0.1332 - accuracy: 0.9554 - val_loss: 1.0432 - val_accuracy: 0.8000\n",
      "Epoch 17/20\n",
      "16/16 [==============================] - 0s 17ms/step - loss: 0.1224 - accuracy: 0.9582 - val_loss: 1.0167 - val_accuracy: 0.8080\n",
      "Epoch 18/20\n",
      "16/16 [==============================] - 0s 18ms/step - loss: 0.1214 - accuracy: 0.9579 - val_loss: 1.0300 - val_accuracy: 0.8020\n",
      "Epoch 19/20\n",
      "16/16 [==============================] - 0s 20ms/step - loss: 0.1153 - accuracy: 0.9582 - val_loss: 1.0470 - val_accuracy: 0.8090\n",
      "Epoch 20/20\n",
      "16/16 [==============================] - 0s 16ms/step - loss: 0.1119 - accuracy: 0.9594 - val_loss: 1.0544 - val_accuracy: 0.8090\n"
     ]
    }
   ],
   "source": [
    "history = model.fit(partial_x_train, \n",
    "                    partial_y_train, \n",
    "                    epochs=20, \n",
    "                    batch_size=512, \n",
    "                    validation_data=(x_val, y_val))"
   ]
  },
  {
   "cell_type": "code",
   "execution_count": 22,
   "id": "81e17cb1",
   "metadata": {},
   "outputs": [
    {
     "data": {
      "image/png": "[encoded data removed]",
      "text/plain": [
       "<Figure size 640x480 with 1 Axes>"
      ]
     },
     "metadata": {},
     "output_type": "display_data"
    }
   ],
   "source": [
    "import matplotlib.pyplot as plt\n",
    "\n",
    "loss = history.history['loss']\n",
    "val_loss = history.history['val_loss']\n",
    "\n",
    "epochs = range(1, len(loss) + 1)\n",
    "\n",
    "plt.plot(epochs, loss, 'bo', label='Training loss')\n",
    "plt.plot(epochs, val_loss, 'b', label='Validation loss')\n",
    "plt.title('Training and validation loss')\n",
    "plt.xlabel('Epochs')\n",
    "plt.ylabel('Loss')\n",
    "plt.legend()\n",
    "\n",
    "plt.show()"
   ]
  },
  {
   "cell_type": "code",
   "execution_count": 24,
   "id": "94bb6bb4",
   "metadata": {},
   "outputs": [
    {
     "data": {
      "image/png": "[encoded data removed]",
      "text/plain": [
       "<Figure size 640x480 with 1 Axes>"
      ]
     },
     "metadata": {},
     "output_type": "display_data"
    }
   ],
   "source": [
    "plt.clf()\n",
    "\n",
    "acc = history.history['accuracy']\n",
    "val_acc = history.history['val_accuracy']\n",
    "\n",
    "plt.plot(epochs, acc, 'bo', label='Training acc')\n",
    "plt.plot(epochs, val_acc, 'b', label='Validation acc')\n",
    "plt.title('Training and validation accuracy')\n",
    "plt.xlabel('Epochs')\n",
    "plt.ylabel('Accuracy')\n",
    "plt.legend()\n",
    "\n",
    "plt.show()"
   ]
  },
  {
   "cell_type": "code",
   "execution_count": 28,
   "id": "a7ae76d4",
   "metadata": {},
   "outputs": [
    {
     "name": "stdout",
     "output_type": "stream",
     "text": [
      "Epoch 1/9\n",
      "16/16 [==============================] - 1s 23ms/step - loss: 2.6473 - accuracy: 0.5252 - val_loss: 1.7634 - val_accuracy: 0.6470\n",
      "Epoch 2/9\n",
      "16/16 [==============================] - 0s 16ms/step - loss: 1.4297 - accuracy: 0.7051 - val_loss: 1.3394 - val_accuracy: 0.6950\n",
      "Epoch 3/9\n",
      "16/16 [==============================] - 0s 16ms/step - loss: 1.0568 - accuracy: 0.7774 - val_loss: 1.1535 - val_accuracy: 0.7460\n",
      "Epoch 4/9\n",
      "16/16 [==============================] - 0s 16ms/step - loss: 0.8253 - accuracy: 0.8284 - val_loss: 1.0171 - val_accuracy: 0.7780\n",
      "Epoch 5/9\n",
      "16/16 [==============================] - 0s 16ms/step - loss: 0.6522 - accuracy: 0.8647 - val_loss: 0.9688 - val_accuracy: 0.7920\n",
      "Epoch 6/9\n",
      "16/16 [==============================] - 0s 17ms/step - loss: 0.5176 - accuracy: 0.8948 - val_loss: 0.9064 - val_accuracy: 0.8130\n",
      "Epoch 7/9\n",
      "16/16 [==============================] - 0s 17ms/step - loss: 0.4119 - accuracy: 0.9134 - val_loss: 0.9045 - val_accuracy: 0.8010\n",
      "Epoch 8/9\n",
      "16/16 [==============================] - 0s 16ms/step - loss: 0.3373 - accuracy: 0.9280 - val_loss: 0.8706 - val_accuracy: 0.8160\n",
      "Epoch 9/9\n",
      "16/16 [==============================] - 0s 15ms/step - loss: 0.2788 - accuracy: 0.9381 - val_loss: 0.8979 - val_accuracy: 0.8080\n",
      "71/71 [==============================] - 0s 2ms/step - loss: 1.0050 - accuracy: 0.7841\n"
     ]
    }
   ],
   "source": [
    "model = models.Sequential()\n",
    "model.add(layers.Dense(64, activation='relu', input_shape=(10000,)))\n",
    "model.add(layers.Dense(64, activation='relu'))\n",
    "model.add(layers.Dense(46, activation='softmax'))\n",
    "\n",
    "model.compile(optimizer='rmsprop',\n",
    "              loss='categorical_crossentropy',\n",
    "              metrics=['accuracy'])\n",
    "model.fit(partial_x_train,\n",
    "          partial_y_train,\n",
    "          epochs=9,\n",
    "          batch_size=512,\n",
    "          validation_data=(x_val, y_val))\n",
    "results = model.evaluate(x_test, one_hot_test_labels)"
   ]
  },
  {
   "cell_type": "code",
   "execution_count": 29,
   "id": "10a4a13c",
   "metadata": {},
   "outputs": [
    {
     "data": {
      "text/plain": [
       "[1.004987359046936, 0.784060537815094]"
      ]
     },
     "execution_count": 29,
     "metadata": {},
     "output_type": "execute_result"
    }
   ],
   "source": [
    "results"
   ]
  },
  {
   "cell_type": "code",
   "execution_count": 30,
   "id": "9ad6f5f1",
   "metadata": {},
   "outputs": [
    {
     "data": {
      "text/plain": [
       "0.17764915405164738"
      ]
     },
     "execution_count": 30,
     "metadata": {},
     "output_type": "execute_result"
    }
   ],
   "source": [
    "import copy\n",
    "\n",
    "test_labels_copy = copy.copy(test_labels)\n",
    "np.random.shuffle(test_labels_copy)\n",
    "hits_array = np.array(test_labels) == np.array(test_labels_copy)\n",
    "float(np.sum(hits_array)) / len(test_labels)"
   ]
  },
  {
   "cell_type": "code",
   "execution_count": 31,
   "id": "481de4fb",
   "metadata": {},
   "outputs": [
    {
     "name": "stdout",
     "output_type": "stream",
     "text": [
      "71/71 [==============================] - 0s 1ms/step\n"
     ]
    }
   ],
   "source": [
    "predictions = model.predict(x_test)"
   ]
  },
  {
   "cell_type": "code",
   "execution_count": 32,
   "id": "7f56a4d5",
   "metadata": {},
   "outputs": [
    {
     "data": {
      "text/plain": [
       "(46,)"
      ]
     },
     "execution_count": 32,
     "metadata": {},
     "output_type": "execute_result"
    }
   ],
   "source": [
    "predictions[0].shape"
   ]
  },
  {
   "cell_type": "code",
   "execution_count": 33,
   "id": "b4e35807",
   "metadata": {},
   "outputs": [
    {
     "data": {
      "text/plain": [
       "1.0"
      ]
     },
     "execution_count": 33,
     "metadata": {},
     "output_type": "execute_result"
    }
   ],
   "source": [
    "np.sum(predictions[0])"
   ]
  },
  {
   "cell_type": "code",
   "execution_count": 34,
   "id": "2106edb6",
   "metadata": {},
   "outputs": [
    {
     "data": {
      "text/plain": [
       "3"
      ]
     },
     "execution_count": 34,
     "metadata": {},
     "output_type": "execute_result"
    }
   ],
   "source": [
    "np.argmax(predictions[0])"
   ]
  },
  {
   "cell_type": "code",
   "execution_count": 35,
   "id": "d2259e16",
   "metadata": {},
   "outputs": [],
   "source": [
    "y_train = np.array(train_labels)\n",
    "y_test = np.array(test_labels)"
   ]
  },
  {
   "cell_type": "code",
   "execution_count": 36,
   "id": "3b8b83ed",
   "metadata": {},
   "outputs": [],
   "source": [
    "model.compile(optimizer='rmsprop', \n",
    "              loss='sparse_categorical_crossentropy', \n",
    "              metrics=['acc'])"
   ]
  },
  {
   "cell_type": "code",
   "execution_count": 37,
   "id": "56ea3ff7",
   "metadata": {},
   "outputs": [
    {
     "name": "stdout",
     "output_type": "stream",
     "text": [
      "Epoch 1/20\n",
      "63/63 [==============================] - 1s 10ms/step - loss: 2.8045 - accuracy: 0.3524 - val_loss: 2.2450 - val_accuracy: 0.3770\n",
      "Epoch 2/20\n",
      "63/63 [==============================] - 1s 9ms/step - loss: 1.8336 - accuracy: 0.5272 - val_loss: 1.6182 - val_accuracy: 0.6180\n",
      "Epoch 3/20\n",
      "63/63 [==============================] - 1s 9ms/step - loss: 1.3710 - accuracy: 0.6496 - val_loss: 1.4118 - val_accuracy: 0.6380\n",
      "Epoch 4/20\n",
      "63/63 [==============================] - 1s 9ms/step - loss: 1.1760 - accuracy: 0.6778 - val_loss: 1.3542 - val_accuracy: 0.6470\n",
      "Epoch 5/20\n",
      "63/63 [==============================] - 1s 9ms/step - loss: 1.0508 - accuracy: 0.7152 - val_loss: 1.3162 - val_accuracy: 0.6940\n",
      "Epoch 6/20\n",
      "63/63 [==============================] - 1s 8ms/step - loss: 0.9563 - accuracy: 0.7508 - val_loss: 1.3072 - val_accuracy: 0.6940\n",
      "Epoch 7/20\n",
      "63/63 [==============================] - 1s 8ms/step - loss: 0.8778 - accuracy: 0.7675 - val_loss: 1.3548 - val_accuracy: 0.6920\n",
      "Epoch 8/20\n",
      "63/63 [==============================] - 1s 9ms/step - loss: 0.8078 - accuracy: 0.7820 - val_loss: 1.2952 - val_accuracy: 0.7170\n",
      "Epoch 9/20\n",
      "63/63 [==============================] - 1s 9ms/step - loss: 0.7459 - accuracy: 0.8014 - val_loss: 1.3179 - val_accuracy: 0.7170\n",
      "Epoch 10/20\n",
      "63/63 [==============================] - 1s 9ms/step - loss: 0.6886 - accuracy: 0.8118 - val_loss: 1.3576 - val_accuracy: 0.7160\n",
      "Epoch 11/20\n",
      "63/63 [==============================] - 1s 9ms/step - loss: 0.6403 - accuracy: 0.8231 - val_loss: 1.3778 - val_accuracy: 0.7170\n",
      "Epoch 12/20\n",
      "63/63 [==============================] - 1s 9ms/step - loss: 0.5949 - accuracy: 0.8344 - val_loss: 1.4167 - val_accuracy: 0.7210\n",
      "Epoch 13/20\n",
      "63/63 [==============================] - 1s 9ms/step - loss: 0.5559 - accuracy: 0.8508 - val_loss: 1.4901 - val_accuracy: 0.7140\n",
      "Epoch 14/20\n",
      "63/63 [==============================] - 1s 8ms/step - loss: 0.5218 - accuracy: 0.8606 - val_loss: 1.5086 - val_accuracy: 0.7230\n",
      "Epoch 15/20\n",
      "63/63 [==============================] - 1s 9ms/step - loss: 0.4926 - accuracy: 0.8691 - val_loss: 1.5471 - val_accuracy: 0.7190\n",
      "Epoch 16/20\n",
      "63/63 [==============================] - 1s 9ms/step - loss: 0.4643 - accuracy: 0.8757 - val_loss: 1.6258 - val_accuracy: 0.7230\n",
      "Epoch 17/20\n",
      "63/63 [==============================] - 1s 9ms/step - loss: 0.4437 - accuracy: 0.8796 - val_loss: 1.6551 - val_accuracy: 0.7240\n",
      "Epoch 18/20\n",
      "63/63 [==============================] - 1s 8ms/step - loss: 0.4254 - accuracy: 0.8822 - val_loss: 1.7608 - val_accuracy: 0.7050\n",
      "Epoch 19/20\n",
      "63/63 [==============================] - 1s 9ms/step - loss: 0.4056 - accuracy: 0.8832 - val_loss: 1.7910 - val_accuracy: 0.7160\n",
      "Epoch 20/20\n",
      "63/63 [==============================] - 1s 8ms/step - loss: 0.3893 - accuracy: 0.8898 - val_loss: 1.8370 - val_accuracy: 0.7190\n"
     ]
    },
    {
     "data": {
      "text/plain": [
       "<keras.callbacks.History at 0x20b2c546940>"
      ]
     },
     "execution_count": 37,
     "metadata": {},
     "output_type": "execute_result"
    }
   ],
   "source": [
    "model = models.Sequential()\n",
    "model.add(layers.Dense(64, activation='relu', input_shape=(10000,)))\n",
    "model.add(layers.Dense(4, activation='relu'))\n",
    "model.add(layers.Dense(46, activation='softmax'))\n",
    "\n",
    "model.compile(optimizer='rmsprop',\n",
    "              loss='categorical_crossentropy',\n",
    "              metrics=['accuracy'])\n",
    "model.fit(partial_x_train,\n",
    "          partial_y_train,\n",
    "          epochs=20,\n",
    "          batch_size=128,\n",
    "          validation_data=(x_val, y_val))"
   ]
  },
  {
   "cell_type": "code",
   "execution_count": 43,
   "id": "b81bf5b8",
   "metadata": {},
   "outputs": [
    {
     "name": "stdout",
     "output_type": "stream",
     "text": [
      "Epoch 1/9\n",
      "16/16 [==============================] - 1s 20ms/step - loss: 3.0565 - accuracy: 0.2174 - val_loss: 2.4222 - val_accuracy: 0.4700\n",
      "Epoch 2/9\n",
      "16/16 [==============================] - 0s 12ms/step - loss: 2.0260 - accuracy: 0.5891 - val_loss: 1.7348 - val_accuracy: 0.6500\n",
      "Epoch 3/9\n",
      "16/16 [==============================] - 0s 13ms/step - loss: 1.4726 - accuracy: 0.6986 - val_loss: 1.4059 - val_accuracy: 0.6880\n",
      "Epoch 4/9\n",
      "16/16 [==============================] - 0s 12ms/step - loss: 1.1764 - accuracy: 0.7443 - val_loss: 1.2411 - val_accuracy: 0.7280\n",
      "Epoch 5/9\n",
      "16/16 [==============================] - 0s 12ms/step - loss: 0.9805 - accuracy: 0.7856 - val_loss: 1.1205 - val_accuracy: 0.7590\n",
      "Epoch 6/9\n",
      "16/16 [==============================] - 0s 12ms/step - loss: 0.8391 - accuracy: 0.8185 - val_loss: 1.0654 - val_accuracy: 0.7730\n",
      "Epoch 7/9\n",
      "16/16 [==============================] - 0s 12ms/step - loss: 0.7283 - accuracy: 0.8415 - val_loss: 1.0170 - val_accuracy: 0.7850\n",
      "Epoch 8/9\n",
      "16/16 [==============================] - 0s 12ms/step - loss: 0.6304 - accuracy: 0.8623 - val_loss: 0.9823 - val_accuracy: 0.7900\n",
      "Epoch 9/9\n",
      "16/16 [==============================] - 0s 11ms/step - loss: 0.5500 - accuracy: 0.8801 - val_loss: 0.9537 - val_accuracy: 0.7950\n",
      "71/71 [==============================] - 0s 1ms/step - loss: 1.0406 - accuracy: 0.7747\n",
      "[1.0405962467193604, 0.7747105956077576]\n"
     ]
    }
   ],
   "source": [
    "#32개의 유닛을 이용\n",
    "model = models.Sequential()\n",
    "model.add(layers.Dense(32, activation='relu', input_shape=(10000,)))\n",
    "model.add(layers.Dense(32, activation='relu'))\n",
    "model.add(layers.Dense(46, activation='softmax'))\n",
    "\n",
    "model.compile(optimizer='rmsprop',\n",
    "              loss='categorical_crossentropy',\n",
    "              metrics=['accuracy'])\n",
    "model.fit(partial_x_train,\n",
    "          partial_y_train,\n",
    "          epochs=9,\n",
    "          batch_size=512,\n",
    "          validation_data=(x_val, y_val))\n",
    "results = model.evaluate(x_test, one_hot_test_labels)\n",
    "print(results)"
   ]
  },
  {
   "cell_type": "code",
   "execution_count": 42,
   "id": "8fa7cfa0",
   "metadata": {},
   "outputs": [
    {
     "name": "stdout",
     "output_type": "stream",
     "text": [
      "Epoch 1/9\n",
      "16/16 [==============================] - 1s 29ms/step - loss: 2.1932 - accuracy: 0.5634 - val_loss: 1.3704 - val_accuracy: 0.6910\n",
      "Epoch 2/9\n",
      "16/16 [==============================] - 0s 22ms/step - loss: 1.1011 - accuracy: 0.7577 - val_loss: 1.0970 - val_accuracy: 0.7540\n",
      "Epoch 3/9\n",
      "16/16 [==============================] - 0s 22ms/step - loss: 0.7662 - accuracy: 0.8350 - val_loss: 0.9609 - val_accuracy: 0.7980\n",
      "Epoch 4/9\n",
      "16/16 [==============================] - 0s 22ms/step - loss: 0.5425 - accuracy: 0.8903 - val_loss: 0.8781 - val_accuracy: 0.8110\n",
      "Epoch 5/9\n",
      "16/16 [==============================] - 0s 21ms/step - loss: 0.4014 - accuracy: 0.9161 - val_loss: 0.8612 - val_accuracy: 0.8150\n",
      "Epoch 6/9\n",
      "16/16 [==============================] - 0s 22ms/step - loss: 0.3011 - accuracy: 0.9351 - val_loss: 0.9117 - val_accuracy: 0.8120\n",
      "Epoch 7/9\n",
      "16/16 [==============================] - 0s 25ms/step - loss: 0.2498 - accuracy: 0.9431 - val_loss: 0.8919 - val_accuracy: 0.8200\n",
      "Epoch 8/9\n",
      "16/16 [==============================] - 0s 22ms/step - loss: 0.2065 - accuracy: 0.9469 - val_loss: 0.9064 - val_accuracy: 0.8140\n",
      "Epoch 9/9\n",
      "16/16 [==============================] - 0s 20ms/step - loss: 0.1741 - accuracy: 0.9511 - val_loss: 0.9061 - val_accuracy: 0.8170\n",
      "71/71 [==============================] - 0s 1ms/step - loss: 1.0344 - accuracy: 0.7850\n",
      "[1.0343780517578125, 0.7849510312080383]\n"
     ]
    }
   ],
   "source": [
    "#128개의 유닛을 이용\n",
    "model = models.Sequential()\n",
    "model.add(layers.Dense(128, activation='relu', input_shape=(10000,)))\n",
    "model.add(layers.Dense(128, activation='relu'))\n",
    "model.add(layers.Dense(46, activation='softmax'))\n",
    "\n",
    "model.compile(optimizer='rmsprop',\n",
    "              loss='categorical_crossentropy',\n",
    "              metrics=['accuracy'])\n",
    "model.fit(partial_x_train,\n",
    "          partial_y_train,\n",
    "          epochs=9,\n",
    "          batch_size=512,\n",
    "          validation_data=(x_val, y_val))\n",
    "results = model.evaluate(x_test, one_hot_test_labels)\n",
    "print(results)"
   ]
  },
  {
   "cell_type": "code",
   "execution_count": 44,
   "id": "9e7f350b",
   "metadata": {},
   "outputs": [
    {
     "name": "stdout",
     "output_type": "stream",
     "text": [
      "Epoch 1/9\n",
      "16/16 [==============================] - 1s 56ms/step - loss: 2.6153 - accuracy: 0.5847 - val_loss: 1.8495 - val_accuracy: 0.6760\n",
      "Epoch 2/9\n",
      "16/16 [==============================] - 0s 19ms/step - loss: 1.4800 - accuracy: 0.7306 - val_loss: 1.3498 - val_accuracy: 0.7310\n",
      "Epoch 3/9\n",
      "16/16 [==============================] - 0s 19ms/step - loss: 1.0704 - accuracy: 0.7879 - val_loss: 1.1356 - val_accuracy: 0.7690\n",
      "Epoch 4/9\n",
      "16/16 [==============================] - 0s 19ms/step - loss: 0.8304 - accuracy: 0.8312 - val_loss: 1.0258 - val_accuracy: 0.7880\n",
      "Epoch 5/9\n",
      "16/16 [==============================] - 0s 19ms/step - loss: 0.6687 - accuracy: 0.8663 - val_loss: 0.9430 - val_accuracy: 0.8100\n",
      "Epoch 6/9\n",
      "16/16 [==============================] - 0s 18ms/step - loss: 0.5470 - accuracy: 0.8924 - val_loss: 0.8937 - val_accuracy: 0.8220\n",
      "Epoch 7/9\n",
      "16/16 [==============================] - 0s 19ms/step - loss: 0.4504 - accuracy: 0.9093 - val_loss: 0.8658 - val_accuracy: 0.8250\n",
      "Epoch 8/9\n",
      "16/16 [==============================] - 0s 18ms/step - loss: 0.3745 - accuracy: 0.9243 - val_loss: 0.8457 - val_accuracy: 0.8240\n",
      "Epoch 9/9\n",
      "16/16 [==============================] - 0s 18ms/step - loss: 0.3130 - accuracy: 0.9365 - val_loss: 0.8283 - val_accuracy: 0.8240\n",
      "71/71 [==============================] - 0s 2ms/step - loss: 0.8946 - accuracy: 0.8019\n",
      "[0.8946084380149841, 0.8018699884414673]\n"
     ]
    }
   ],
   "source": [
    "#1개의 은닉 층 이용\n",
    "model = models.Sequential()\n",
    "model.add(layers.Dense(64, activation='relu', input_shape=(10000,)))\n",
    "model.add(layers.Dense(46, activation='softmax'))\n",
    "\n",
    "model.compile(optimizer='rmsprop',\n",
    "              loss='categorical_crossentropy',\n",
    "              metrics=['accuracy'])\n",
    "model.fit(partial_x_train,\n",
    "          partial_y_train,\n",
    "          epochs=9,\n",
    "          batch_size=512,\n",
    "          validation_data=(x_val, y_val))\n",
    "results = model.evaluate(x_test, one_hot_test_labels)\n",
    "print(results)"
   ]
  },
  {
   "cell_type": "code",
   "execution_count": 45,
   "id": "c138f230",
   "metadata": {},
   "outputs": [
    {
     "name": "stdout",
     "output_type": "stream",
     "text": [
      "Epoch 1/9\n",
      "16/16 [==============================] - 1s 25ms/step - loss: 2.6892 - accuracy: 0.5084 - val_loss: 1.7411 - val_accuracy: 0.6280\n",
      "Epoch 2/9\n",
      "16/16 [==============================] - 0s 18ms/step - loss: 1.4284 - accuracy: 0.6996 - val_loss: 1.3118 - val_accuracy: 0.7160\n",
      "Epoch 3/9\n",
      "16/16 [==============================] - 0s 18ms/step - loss: 1.0676 - accuracy: 0.7616 - val_loss: 1.1375 - val_accuracy: 0.7410\n",
      "Epoch 4/9\n",
      "16/16 [==============================] - 0s 22ms/step - loss: 0.8374 - accuracy: 0.8122 - val_loss: 1.0449 - val_accuracy: 0.7780\n",
      "Epoch 5/9\n",
      "16/16 [==============================] - 0s 22ms/step - loss: 0.6692 - accuracy: 0.8533 - val_loss: 1.0181 - val_accuracy: 0.7740\n",
      "Epoch 6/9\n",
      "16/16 [==============================] - 0s 19ms/step - loss: 0.5260 - accuracy: 0.8845 - val_loss: 1.0159 - val_accuracy: 0.7730\n",
      "Epoch 7/9\n",
      "16/16 [==============================] - 0s 19ms/step - loss: 0.4278 - accuracy: 0.9069 - val_loss: 1.0404 - val_accuracy: 0.7740\n",
      "Epoch 8/9\n",
      "16/16 [==============================] - 0s 18ms/step - loss: 0.3456 - accuracy: 0.9275 - val_loss: 0.9706 - val_accuracy: 0.8010\n",
      "Epoch 9/9\n",
      "16/16 [==============================] - 0s 18ms/step - loss: 0.2848 - accuracy: 0.9362 - val_loss: 0.9639 - val_accuracy: 0.8090\n",
      "71/71 [==============================] - 0s 2ms/step - loss: 1.1086 - accuracy: 0.7774\n",
      "[1.1085652112960815, 0.7773820161819458]\n"
     ]
    }
   ],
   "source": [
    "#3개의 은닉 층 이용\n",
    "model = models.Sequential()\n",
    "model.add(layers.Dense(64, activation='relu', input_shape=(10000,)))\n",
    "model.add(layers.Dense(64, activation='relu'))\n",
    "model.add(layers.Dense(64, activation='relu'))\n",
    "model.add(layers.Dense(46, activation='softmax'))\n",
    "\n",
    "model.compile(optimizer='rmsprop',\n",
    "              loss='categorical_crossentropy',\n",
    "              metrics=['accuracy'])\n",
    "model.fit(partial_x_train,\n",
    "          partial_y_train,\n",
    "          epochs=9,\n",
    "          batch_size=512,\n",
    "          validation_data=(x_val, y_val))\n",
    "results = model.evaluate(x_test, one_hot_test_labels)\n",
    "print(results)"
   ]
  },
  {
   "cell_type": "code",
   "execution_count": null,
   "id": "33a4a91a",
   "metadata": {},
   "outputs": [],
   "source": []
  }
 ],
 "metadata": {
  "kernelspec": {
   "display_name": "Python 3 (ipykernel)",
   "language": "python",
   "name": "python3"
  },
  "language_info": {
   "codemirror_mode": {
    "name": "ipython",
    "version": 3
   },
   "file_extension": ".py",
   "mimetype": "text/x-python",
   "name": "python",
   "nbconvert_exporter": "python",
   "pygments_lexer": "ipython3",
   "version": "3.9.13"
  }
 },
 "nbformat": 4,
 "nbformat_minor": 5
}
